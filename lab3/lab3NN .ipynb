{
 "cells": [
  {
   "cell_type": "markdown",
   "id": "cef85c9a",
   "metadata": {},
   "source": [
    "# Лабораторна робота №3\n",
    "з дисципліни \"Нейронні мережі\"\n",
    "\n",
    "студента групи АнД-41\n",
    "\n",
    "Айрапетова Давида\n",
    "\n",
    "Варіант № 1\n",
    "Завдання\n",
    "На основі документу вирішити завдання класифікації для набору даних Fashion MNIST.\n",
    "\n",
    "Для моделювання використати 3 класи індекси яких взяти відповідно до номеру у списку групи у наведеній нижче таблиці.\n",
    "\n",
    "Моделювання провести із використанням нейронної мережі (Flatten & Dense layers).\n",
    "\n",
    "Здійснити вибір оптимального кроку градієнтного алгоритму (learning_rate), а також побудову Confusion Matrix.\n",
    "\n",
    "Результати оформити у вигляді файлу з кодом для моделювання та візуалізації у форматі .ipynb\n",
    "\n",
    "Результати викласти у репозиторії GitHub (папка Lab3).\n",
    "\n",
    "Підготуватися до захисту лабораторрної роботи (пояснення коду, відповіді на запитання за темою)\n",
    "\n",
    "Індекси за варіантом: 0,3,7"
   ]
  },
  {
   "cell_type": "code",
   "execution_count": 85,
   "id": "dff11948",
   "metadata": {},
   "outputs": [],
   "source": [
    "import tensorflow as tf\n",
    "from tensorflow.keras.datasets import fashion_mnist\n",
    "\n",
    "(train_data, train_labels), (test_data, test_labels) = fashion_mnist.load_data()"
   ]
  },
  {
   "cell_type": "code",
   "execution_count": 86,
   "id": "724a14a1",
   "metadata": {},
   "outputs": [
    {
     "data": {
      "image/png": "[encoded data removed]",
      "text/plain": [
       "<Figure size 432x288 with 1 Axes>"
      ]
     },
     "metadata": {
      "needs_background": "light"
     },
     "output_type": "display_data"
    }
   ],
   "source": [
    "import matplotlib.pyplot as plt\n",
    "plt.imshow(train_data[9]);"
   ]
  },
  {
   "cell_type": "code",
   "execution_count": 87,
   "id": "d0d80260",
   "metadata": {},
   "outputs": [
    {
     "data": {
      "image/png": "[encoded data removed]",
      "text/plain": [
       "<Figure size 432x288 with 1 Axes>"
      ]
     },
     "metadata": {
      "needs_background": "light"
     },
     "output_type": "display_data"
    }
   ],
   "source": [
    "class_names = ['T-shirt/top', 'Trouser', 'Pullover', 'Dress', 'Coat', \n",
    "               'Sandal', 'Shirt', 'Sneaker', 'Bag', 'Ankle boot']\n",
    "\n",
    "plt.imshow(train_data[9], cmap=plt.cm.binary) \n",
    "plt.title(class_names[train_labels[9]]);"
   ]
  },
  {
   "cell_type": "code",
   "execution_count": 88,
   "id": "d83cf583",
   "metadata": {},
   "outputs": [],
   "source": [
    "var_classes = [0,3,7]\n",
    "var_names = {0:'T-shirt/top', 3:'Dress', 7:'Sneaker'}"
   ]
  },
  {
   "cell_type": "code",
   "execution_count": 89,
   "id": "990427c0",
   "metadata": {},
   "outputs": [
    {
     "data": {
      "image/png": "[encoded data removed]",
      "text/plain": [
       "<Figure size 504x504 with 6 Axes>"
      ]
     },
     "metadata": {
      "needs_background": "light"
     },
     "output_type": "display_data"
    }
   ],
   "source": [
    "import random\n",
    "random.seed(10)\n",
    "plt.figure(figsize=(7, 7))\n",
    "\n",
    "for i in range(6):\n",
    "    ax = plt.subplot(2, 3, i + 1)\n",
    "    rand_index = random.choice(var_classes)\n",
    "    plt.imshow(train_data[rand_index], cmap=plt.cm.binary)\n",
    "    plt.title(class_names[train_labels[rand_index]])\n",
    "    plt.axis(False)"
   ]
  },
  {
   "cell_type": "code",
   "execution_count": 90,
   "id": "bda0487b",
   "metadata": {},
   "outputs": [],
   "source": [
    "import numpy as np\n",
    "X_train = train_data[np.where(np.in1d(train_labels, var_classes))]\n",
    "y_train = train_labels[np.where(np.in1d(train_labels, var_classes))]\n",
    "X_test = test_data[np.where(np.in1d(test_labels, var_classes))]\n",
    "y_test = test_labels[np.where(np.in1d(test_labels, var_classes))]"
   ]
  },
  {
   "cell_type": "code",
   "execution_count": 91,
   "id": "4ac16477",
   "metadata": {},
   "outputs": [
    {
     "name": "stdout",
     "output_type": "stream",
     "text": [
      "Epoch 1/10\n",
      "563/563 [==============================] - 1s 1ms/step - loss: 2.3459 - accuracy: 0.3274 - val_loss: 1.4808 - val_accuracy: 0.3333\n",
      "Epoch 2/10\n",
      "563/563 [==============================] - 1s 1ms/step - loss: 1.3047 - accuracy: 0.3334 - val_loss: 1.1960 - val_accuracy: 0.3333\n",
      "Epoch 3/10\n",
      "563/563 [==============================] - 1s 1ms/step - loss: 1.1581 - accuracy: 0.3326 - val_loss: 1.1342 - val_accuracy: 0.3333\n",
      "Epoch 4/10\n",
      "563/563 [==============================] - 1s 1ms/step - loss: 1.1237 - accuracy: 0.3392 - val_loss: 1.1164 - val_accuracy: 0.3333\n",
      "Epoch 5/10\n",
      "563/563 [==============================] - 1s 1ms/step - loss: 1.1122 - accuracy: 0.3320 - val_loss: 1.1088 - val_accuracy: 0.3333\n",
      "Epoch 6/10\n",
      "563/563 [==============================] - 1s 1ms/step - loss: 1.1068 - accuracy: 0.3331 - val_loss: 1.1055 - val_accuracy: 0.3333\n",
      "Epoch 7/10\n",
      "563/563 [==============================] - 1s 1ms/step - loss: 1.1020 - accuracy: 0.3349 - val_loss: 1.0853 - val_accuracy: 0.3537\n",
      "Epoch 8/10\n",
      "563/563 [==============================] - 1s 1ms/step - loss: 0.7451 - accuracy: 0.6177 - val_loss: 0.4562 - val_accuracy: 0.8707\n",
      "Epoch 9/10\n",
      "563/563 [==============================] - 1s 1ms/step - loss: 0.3717 - accuracy: 0.8758 - val_loss: 0.3357 - val_accuracy: 0.8753\n",
      "Epoch 10/10\n",
      "563/563 [==============================] - 1s 1ms/step - loss: 0.2958 - accuracy: 0.8917 - val_loss: 0.2933 - val_accuracy: 0.8967\n"
     ]
    }
   ],
   "source": [
    "\n",
    "tf.random.set_seed(42)\n",
    "\n",
    "model_11 = tf.keras.Sequential([\n",
    "  tf.keras.layers.Flatten(input_shape=(28, 28)), \n",
    "  tf.keras.layers.Dense(4, activation=\"relu\"),\n",
    "  tf.keras.layers.Dense(4, activation=\"relu\"),\n",
    "  tf.keras.layers.Dense(10, activation=\"softmax\")\n",
    "])\n",
    "\n",
    "model_11.compile(loss=tf.keras.losses.SparseCategoricalCrossentropy(),\n",
    "                 optimizer=tf.keras.optimizers.Adam(),\n",
    "                 metrics=[\"accuracy\"])\n",
    "\n",
    "non_norm_history = model_11.fit(X_train,\n",
    "                                y_train,\n",
    "                                epochs=10,\n",
    "                                validation_data=(X_test, y_test))"
   ]
  },
  {
   "cell_type": "code",
   "execution_count": 92,
   "id": "1c1e18c7",
   "metadata": {},
   "outputs": [
    {
     "name": "stdout",
     "output_type": "stream",
     "text": [
      "Model: \"sequential_16\"\n",
      "_________________________________________________________________\n",
      " Layer (type)                Output Shape              Param #   \n",
      "=================================================================\n",
      " flatten_16 (Flatten)        (None, 784)               0         \n",
      "                                                                 \n",
      " dense_48 (Dense)            (None, 4)                 3140      \n",
      "                                                                 \n",
      " dense_49 (Dense)            (None, 4)                 20        \n",
      "                                                                 \n",
      " dense_50 (Dense)            (None, 10)                50        \n",
      "                                                                 \n",
      "=================================================================\n",
      "Total params: 3,210\n",
      "Trainable params: 3,210\n",
      "Non-trainable params: 0\n",
      "_________________________________________________________________\n"
     ]
    }
   ],
   "source": [
    "model_11.summary()"
   ]
  },
  {
   "cell_type": "code",
   "execution_count": 93,
   "id": "fcb8397a",
   "metadata": {},
   "outputs": [
    {
     "data": {
      "text/plain": [
       "(0, 255)"
      ]
     },
     "execution_count": 93,
     "metadata": {},
     "output_type": "execute_result"
    }
   ],
   "source": [
    "X_train.min(), X_train.max()"
   ]
  },
  {
   "cell_type": "code",
   "execution_count": 94,
   "id": "acb67aa1",
   "metadata": {},
   "outputs": [
    {
     "data": {
      "text/plain": [
       "(0.0, 1.0)"
      ]
     },
     "execution_count": 94,
     "metadata": {},
     "output_type": "execute_result"
    }
   ],
   "source": [
    "X_train_norm = X_train / 255.0\n",
    "X_test_norm = X_test / 255.0\n",
    "\n",
    "X_train_norm.min(), X_train_norm.max()"
   ]
  },
  {
   "cell_type": "code",
   "execution_count": 95,
   "id": "8ca4b332",
   "metadata": {},
   "outputs": [
    {
     "name": "stdout",
     "output_type": "stream",
     "text": [
      "Epoch 1/10\n",
      "563/563 [==============================] - 1s 1ms/step - loss: 0.4676 - accuracy: 0.8772 - val_loss: 0.1419 - val_accuracy: 0.9540\n",
      "Epoch 2/10\n",
      "563/563 [==============================] - 1s 1ms/step - loss: 0.1231 - accuracy: 0.9537 - val_loss: 0.1225 - val_accuracy: 0.9553\n",
      "Epoch 3/10\n",
      "563/563 [==============================] - 1s 1ms/step - loss: 0.1106 - accuracy: 0.9576 - val_loss: 0.1148 - val_accuracy: 0.9580\n",
      "Epoch 4/10\n",
      "563/563 [==============================] - 1s 1ms/step - loss: 0.1024 - accuracy: 0.9612 - val_loss: 0.1097 - val_accuracy: 0.9617\n",
      "Epoch 5/10\n",
      "563/563 [==============================] - 1s 1ms/step - loss: 0.0966 - accuracy: 0.9628 - val_loss: 0.1168 - val_accuracy: 0.9553\n",
      "Epoch 6/10\n",
      "563/563 [==============================] - 1s 1ms/step - loss: 0.0917 - accuracy: 0.9647 - val_loss: 0.1105 - val_accuracy: 0.9603\n",
      "Epoch 7/10\n",
      "563/563 [==============================] - 1s 1ms/step - loss: 0.0889 - accuracy: 0.9654 - val_loss: 0.1085 - val_accuracy: 0.9593\n",
      "Epoch 8/10\n",
      "563/563 [==============================] - 1s 1ms/step - loss: 0.0848 - accuracy: 0.9674 - val_loss: 0.1079 - val_accuracy: 0.9603\n",
      "Epoch 9/10\n",
      "563/563 [==============================] - 1s 1ms/step - loss: 0.0859 - accuracy: 0.9672 - val_loss: 0.1061 - val_accuracy: 0.9607\n",
      "Epoch 10/10\n",
      "563/563 [==============================] - 1s 1ms/step - loss: 0.0824 - accuracy: 0.9694 - val_loss: 0.1175 - val_accuracy: 0.9577\n"
     ]
    }
   ],
   "source": [
    "tf.random.set_seed(42)\n",
    "\n",
    "model_12 = tf.keras.Sequential([\n",
    "  tf.keras.layers.Flatten(input_shape=(28, 28)), \n",
    "  tf.keras.layers.Dense(4, activation=\"relu\"),\n",
    "  tf.keras.layers.Dense(4, activation=\"relu\"),\n",
    "  tf.keras.layers.Dense(10, activation=\"softmax\") \n",
    "])\n",
    "\n",
    "model_12.compile(loss=tf.keras.losses.SparseCategoricalCrossentropy(),\n",
    "                 optimizer=tf.keras.optimizers.Adam(),\n",
    "                 metrics=[\"accuracy\"])\n",
    "\n",
    "norm_history = model_12.fit(X_train_norm,\n",
    "                            y_train,\n",
    "                            epochs=10,\n",
    "                            validation_data=(X_test_norm, y_test))"
   ]
  },
  {
   "cell_type": "code",
   "execution_count": 96,
   "id": "8907b2aa",
   "metadata": {},
   "outputs": [
    {
     "data": {
      "image/png": "[encoded data removed]",
      "text/plain": [
       "<Figure size 432x288 with 1 Axes>"
      ]
     },
     "metadata": {
      "needs_background": "light"
     },
     "output_type": "display_data"
    },
    {
     "data": {
      "image/png": "[encoded data removed]",
      "text/plain": [
       "<Figure size 432x288 with 1 Axes>"
      ]
     },
     "metadata": {
      "needs_background": "light"
     },
     "output_type": "display_data"
    }
   ],
   "source": [
    "import pandas as pd\n",
    "\n",
    "pd.DataFrame(non_norm_history.history).plot(title=\"Non-normalized Data\")\n",
    "\n",
    "pd.DataFrame(norm_history.history).plot(title=\"Normalized data\");"
   ]
  },
  {
   "cell_type": "code",
   "execution_count": 97,
   "id": "c047536e",
   "metadata": {},
   "outputs": [
    {
     "name": "stdout",
     "output_type": "stream",
     "text": [
      "Epoch 1/20\n",
      "563/563 [==============================] - 1s 2ms/step - loss: 0.4676 - accuracy: 0.8772 - val_loss: 0.1419 - val_accuracy: 0.9540 - lr: 0.0010\n",
      "Epoch 2/20\n",
      "563/563 [==============================] - 1s 1ms/step - loss: 0.1229 - accuracy: 0.9543 - val_loss: 0.1218 - val_accuracy: 0.9570 - lr: 0.0011\n",
      "Epoch 3/20\n",
      "563/563 [==============================] - 1s 1ms/step - loss: 0.1099 - accuracy: 0.9582 - val_loss: 0.1193 - val_accuracy: 0.9537 - lr: 0.0013\n",
      "Epoch 4/20\n",
      "563/563 [==============================] - 1s 1ms/step - loss: 0.1016 - accuracy: 0.9615 - val_loss: 0.1078 - val_accuracy: 0.9610 - lr: 0.0014\n",
      "Epoch 5/20\n",
      "563/563 [==============================] - 1s 1ms/step - loss: 0.0960 - accuracy: 0.9634 - val_loss: 0.1221 - val_accuracy: 0.9530 - lr: 0.0016\n",
      "Epoch 6/20\n",
      "563/563 [==============================] - 1s 1ms/step - loss: 0.0933 - accuracy: 0.9642 - val_loss: 0.1111 - val_accuracy: 0.9577 - lr: 0.0018\n",
      "Epoch 7/20\n",
      "563/563 [==============================] - 1s 1ms/step - loss: 0.0905 - accuracy: 0.9651 - val_loss: 0.1068 - val_accuracy: 0.9607 - lr: 0.0020\n",
      "Epoch 8/20\n",
      "563/563 [==============================] - 1s 1ms/step - loss: 0.0868 - accuracy: 0.9657 - val_loss: 0.1064 - val_accuracy: 0.9600 - lr: 0.0022\n",
      "Epoch 9/20\n",
      "563/563 [==============================] - 1s 1ms/step - loss: 0.0890 - accuracy: 0.9665 - val_loss: 0.1044 - val_accuracy: 0.9580 - lr: 0.0025\n",
      "Epoch 10/20\n",
      "563/563 [==============================] - 1s 1ms/step - loss: 0.0841 - accuracy: 0.9687 - val_loss: 0.1255 - val_accuracy: 0.9523 - lr: 0.0028\n",
      "Epoch 11/20\n",
      "563/563 [==============================] - 1s 1ms/step - loss: 0.0836 - accuracy: 0.9683 - val_loss: 0.1112 - val_accuracy: 0.9613 - lr: 0.0032\n",
      "Epoch 12/20\n",
      "563/563 [==============================] - 1s 1ms/step - loss: 0.0835 - accuracy: 0.9696 - val_loss: 0.1264 - val_accuracy: 0.9510 - lr: 0.0035\n",
      "Epoch 13/20\n",
      "563/563 [==============================] - 1s 1ms/step - loss: 0.0833 - accuracy: 0.9677 - val_loss: 0.1138 - val_accuracy: 0.9547 - lr: 0.0040\n",
      "Epoch 14/20\n",
      "563/563 [==============================] - 1s 1ms/step - loss: 0.0829 - accuracy: 0.9671 - val_loss: 0.1035 - val_accuracy: 0.9587 - lr: 0.0045\n",
      "Epoch 15/20\n",
      "563/563 [==============================] - 1s 1ms/step - loss: 0.0825 - accuracy: 0.9688 - val_loss: 0.1676 - val_accuracy: 0.9433 - lr: 0.0050\n",
      "Epoch 16/20\n",
      "563/563 [==============================] - 1s 1ms/step - loss: 0.0813 - accuracy: 0.9689 - val_loss: 0.1198 - val_accuracy: 0.9557 - lr: 0.0056\n",
      "Epoch 17/20\n",
      "563/563 [==============================] - 1s 1ms/step - loss: 0.0804 - accuracy: 0.9699 - val_loss: 0.1050 - val_accuracy: 0.9633 - lr: 0.0063\n",
      "Epoch 18/20\n",
      "563/563 [==============================] - 1s 1ms/step - loss: 0.0822 - accuracy: 0.9693 - val_loss: 0.1219 - val_accuracy: 0.9513 - lr: 0.0071\n",
      "Epoch 19/20\n",
      "563/563 [==============================] - 1s 1ms/step - loss: 0.0839 - accuracy: 0.9681 - val_loss: 0.1107 - val_accuracy: 0.9580 - lr: 0.0079\n",
      "Epoch 20/20\n",
      "563/563 [==============================] - 1s 1ms/step - loss: 0.0779 - accuracy: 0.9694 - val_loss: 0.1394 - val_accuracy: 0.9520 - lr: 0.0089\n"
     ]
    }
   ],
   "source": [
    "tf.random.set_seed(42)\n",
    "\n",
    "model_13 = tf.keras.Sequential([\n",
    "  tf.keras.layers.Flatten(input_shape=(28, 28)), \n",
    "  tf.keras.layers.Dense(4, activation=\"relu\"),\n",
    "  tf.keras.layers.Dense(4, activation=\"relu\"),\n",
    "  tf.keras.layers.Dense(10, activation=\"softmax\") \n",
    "])\n",
    "\n",
    "model_13.compile(loss=tf.keras.losses.SparseCategoricalCrossentropy(),\n",
    "                 optimizer=tf.keras.optimizers.Adam(),\n",
    "                 metrics=[\"accuracy\"])\n",
    "\n",
    "lr_scheduler = tf.keras.callbacks.LearningRateScheduler(lambda epoch: 1e-3 * 10**(epoch/20))\n",
    "\n",
    "find_lr_history = model_13.fit(X_train_norm,\n",
    "                               y_train,\n",
    "                               epochs=20,\n",
    "                               validation_data=(X_test_norm, y_test),\n",
    "                               callbacks=[lr_scheduler])"
   ]
  },
  {
   "cell_type": "code",
   "execution_count": 98,
   "id": "69718ad9",
   "metadata": {},
   "outputs": [
    {
     "data": {
      "image/png": "[encoded data removed]",
      "text/plain": [
       "<Figure size 432x288 with 1 Axes>"
      ]
     },
     "metadata": {
      "needs_background": "light"
     },
     "output_type": "display_data"
    }
   ],
   "source": [
    "lrs = 1e-3 * (10**(np.arange(20)/10))\n",
    "plt.semilogx(lrs, find_lr_history.history[\"loss\"]) \n",
    "plt.xlabel(\"Learning rate\")\n",
    "plt.ylabel(\"Loss\")\n",
    "plt.title(\"The best learning rate\");"
   ]
  },
  {
   "cell_type": "code",
   "execution_count": 99,
   "id": "3c0de8d0",
   "metadata": {},
   "outputs": [],
   "source": [
    "find_lr_history_df = pd.DataFrame(find_lr_history.history)\n",
    "optimal_lr = find_lr_history_df.loc[find_lr_history_df['loss'].idxmin()]['lr']"
   ]
  },
  {
   "cell_type": "code",
   "execution_count": 100,
   "id": "22207788",
   "metadata": {},
   "outputs": [
    {
     "name": "stdout",
     "output_type": "stream",
     "text": [
      "Epoch 1/15\n",
      "563/563 [==============================] - 1s 1ms/step - loss: 0.1758 - accuracy: 0.9320 - val_loss: 0.1172 - val_accuracy: 0.9573\n",
      "Epoch 2/15\n",
      "563/563 [==============================] - 1s 1ms/step - loss: 0.1092 - accuracy: 0.9576 - val_loss: 0.1069 - val_accuracy: 0.9607\n",
      "Epoch 3/15\n",
      "563/563 [==============================] - 1s 1ms/step - loss: 0.1041 - accuracy: 0.9614 - val_loss: 0.1098 - val_accuracy: 0.9607\n",
      "Epoch 4/15\n",
      "563/563 [==============================] - 1s 1ms/step - loss: 0.0962 - accuracy: 0.9636 - val_loss: 0.1091 - val_accuracy: 0.9620\n",
      "Epoch 5/15\n",
      "563/563 [==============================] - 1s 2ms/step - loss: 0.0899 - accuracy: 0.9656 - val_loss: 0.1380 - val_accuracy: 0.9503\n",
      "Epoch 6/15\n",
      "563/563 [==============================] - 1s 2ms/step - loss: 0.0883 - accuracy: 0.9644 - val_loss: 0.1113 - val_accuracy: 0.9637\n",
      "Epoch 7/15\n",
      "563/563 [==============================] - 1s 1ms/step - loss: 0.0850 - accuracy: 0.9684 - val_loss: 0.1026 - val_accuracy: 0.9630\n",
      "Epoch 8/15\n",
      "563/563 [==============================] - 1s 1ms/step - loss: 0.0815 - accuracy: 0.9696 - val_loss: 0.1025 - val_accuracy: 0.9613\n",
      "Epoch 9/15\n",
      "563/563 [==============================] - 1s 1ms/step - loss: 0.0834 - accuracy: 0.9683 - val_loss: 0.1131 - val_accuracy: 0.9650\n",
      "Epoch 10/15\n",
      "563/563 [==============================] - 1s 1ms/step - loss: 0.0763 - accuracy: 0.9722 - val_loss: 0.1072 - val_accuracy: 0.9627\n",
      "Epoch 11/15\n",
      "563/563 [==============================] - 1s 1ms/step - loss: 0.0798 - accuracy: 0.9713 - val_loss: 0.1203 - val_accuracy: 0.9657\n",
      "Epoch 12/15\n",
      "563/563 [==============================] - 1s 1ms/step - loss: 0.0777 - accuracy: 0.9708 - val_loss: 0.1188 - val_accuracy: 0.9567\n",
      "Epoch 13/15\n",
      "563/563 [==============================] - 1s 1ms/step - loss: 0.0692 - accuracy: 0.9744 - val_loss: 0.1018 - val_accuracy: 0.9667\n",
      "Epoch 14/15\n",
      "563/563 [==============================] - 1s 1ms/step - loss: 0.0702 - accuracy: 0.9737 - val_loss: 0.1066 - val_accuracy: 0.9657\n",
      "Epoch 15/15\n",
      "563/563 [==============================] - 1s 1ms/step - loss: 0.0692 - accuracy: 0.9752 - val_loss: 0.1035 - val_accuracy: 0.9640\n"
     ]
    }
   ],
   "source": [
    "model_opt = tf.keras.Sequential([\n",
    "  tf.keras.layers.Flatten(input_shape=(28, 28)),\n",
    "  tf.keras.layers.Dense(6, activation=\"relu\"),\n",
    "  tf.keras.layers.Dense(12, activation=\"relu\"),\n",
    "  tf.keras.layers.Dense(10, activation=\"softmax\") \n",
    "])\n",
    "\n",
    "model_opt.compile(optimizer=tf.keras.optimizers.Adam(learning_rate=optimal_lr),\n",
    "                  loss=tf.keras.losses.SparseCategoricalCrossentropy(), \n",
    "                  metrics=['accuracy'])\n",
    "\n",
    "history = model_opt.fit(X_train_norm,\n",
    "                        y_train,\n",
    "                        epochs=15,\n",
    "                        validation_data=(X_test_norm, y_test))"
   ]
  },
  {
   "cell_type": "code",
   "execution_count": 101,
   "id": "2c6016d8",
   "metadata": {},
   "outputs": [
    {
     "data": {
      "image/png": "[encoded data removed]",
      "text/plain": [
       "<Figure size 432x288 with 1 Axes>"
      ]
     },
     "metadata": {
      "needs_background": "light"
     },
     "output_type": "display_data"
    }
   ],
   "source": [
    "pd.DataFrame(history.history).plot(title=\"The best parameters for the model\")\n",
    "y_pred = model_opt.predict(X_test_norm)"
   ]
  },
  {
   "cell_type": "code",
   "execution_count": 102,
   "id": "0f9a9320",
   "metadata": {},
   "outputs": [
    {
     "data": {
      "text/plain": [
       "array([[ 949,   49,    2],\n",
       "       [  57,  943,    0],\n",
       "       [   0,    0, 1000]], dtype=int64)"
      ]
     },
     "execution_count": 102,
     "metadata": {},
     "output_type": "execute_result"
    }
   ],
   "source": [
    "from sklearn.metrics import confusion_matrix\n",
    "\n",
    "y_pred_res = []\n",
    "for elem in y_pred:\n",
    "    y_pred_res.append(elem.argmax())\n",
    "    \n",
    "confusion_matrix(y_test, y_pred_res)"
   ]
  },
  {
   "cell_type": "code",
   "execution_count": null,
   "id": "04fdaadf",
   "metadata": {},
   "outputs": [],
   "source": []
  }
 ],
 "metadata": {
  "kernelspec": {
   "display_name": "Python 3 (ipykernel)",
   "language": "python",
   "name": "python3"
  },
  "language_info": {
   "codemirror_mode": {
    "name": "ipython",
    "version": 3
   },
   "file_extension": ".py",
   "mimetype": "text/x-python",
   "name": "python",
   "nbconvert_exporter": "python",
   "pygments_lexer": "ipython3",
   "version": "3.9.7"
  }
 },
 "nbformat": 4,
 "nbformat_minor": 5
}
