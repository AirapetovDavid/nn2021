{
 "cells": [
  {
   "cell_type": "markdown",
   "id": "9e475bcf",
   "metadata": {},
   "source": [
    "Лабораторна робота №5\n",
    "з дисципліни \"Нейронні мережі\"\n",
    "\n",
    "студента групи АнД-41\n",
    "\n",
    "Айрапетов Давид\n",
    "\n",
    "Варіант № 1\n",
    "Завдання\n",
    "Виконати вирішення задачs класифікації для 3 класів з набору даних food101 з використанням різних моделей нейронних мереж:\n",
    "1.1 CNN модель з лабораторної роботи 4;\n",
    "\n",
    "1.2 Resnet модель;\n",
    "\n",
    "1.3 Efficientnet модель (моделі 1.1-1.3 з використанням оптимізатора Adam);\n",
    "\n",
    "1.4 Моделі 1.2,1.3 з використанням оптимізатора SGD.\n",
    "\n",
    "Індекси класів визначити індивідуально за залежностями: i1=n-1,i2=n+29,i3=n+59 (де і1,і2,і3 - індекс класу (починаючи з 0) у відсортованому за алфавітом наборі даних, n - номер за списком групи.\n",
    "\n",
    "Порівняти результати моделювання із використанням TensorBoard.\n",
    "\n",
    "Графік(и) порівняння результатів завантажити у форматі .svg та вставити у підсумковий файл поряд із та відповідними висновками.\n",
    "\n",
    "Результати оформити у вигляді файлу з кодом для моделювання та візуалізації у форматі .ipynb.\n",
    "\n",
    "Результати викласти у репозиторії GitHub (папка Lab5).\n",
    "\n",
    "Підготуватися до захисту лабораторрної роботи (пояснення коду, відповіді на запитання за темою).\n",
    "\n",
    "Індекси за варіантом: 0,30,60"
   ]
  },
  {
   "cell_type": "code",
   "execution_count": 1,
   "id": "5c40e643",
   "metadata": {},
   "outputs": [
    {
     "name": "stdout",
     "output_type": "stream",
     "text": [
      "['apple_pie' 'deviled_eggs' 'lobster_bisque']\n"
     ]
    }
   ],
   "source": [
    "import pathlib\n",
    "import numpy as np\n",
    "\n",
    "# turn our training path into a Python path\n",
    "data_dir = pathlib.Path(\"C:/Users/mrdip/Desktop/lab5/101_food/train/\")\n",
    "\n",
    "# created a list of class_names from the subdirectories\n",
    "class_names = np.array(sorted([item.name for item in data_dir.glob('*')])) \n",
    "print(class_names)"
   ]
  },
  {
   "cell_type": "code",
   "execution_count": 2,
   "id": "cbb06806",
   "metadata": {},
   "outputs": [],
   "source": [
    "import tensorflow as tf\n",
    "from tensorflow.keras.preprocessing.image import ImageDataGenerator\n",
    "\n",
    "# Set the seed\n",
    "tf.random.set_seed(42)\n",
    "\n",
    "# Preprocess data (get all of the pixel values between 1 and 0, also called scaling/normalization)\n",
    "train_datagen = ImageDataGenerator(rescale=1./255)\n",
    "valid_datagen = ImageDataGenerator(rescale=1./255)\n",
    "\n",
    "# Setup the train and test directories\n",
    "train_dir = \"C:/Users/mrdip/Desktop/lab5/101_food/test/\"\n",
    "test_dir = \"C:/Users/mrdip/Desktop/lab5/101_food/train/\""
   ]
  },
  {
   "cell_type": "code",
   "execution_count": 3,
   "id": "bb388635",
   "metadata": {},
   "outputs": [
    {
     "name": "stdout",
     "output_type": "stream",
     "text": [
      "Found 750 images belonging to 3 classes.\n",
      "Found 225 images belonging to 3 classes.\n"
     ]
    }
   ],
   "source": [
    "# Import data from directories and turn it into batches\n",
    "train_data = train_datagen.flow_from_directory(train_dir,\n",
    "                                               batch_size=32, # number of images to process at a time \n",
    "                                               target_size=(224, 224), # convert all images to be 224 x 224\n",
    "                                               class_mode=\"categorical\", # type of problem we're working on\n",
    "                                               seed=42)\n",
    "\n",
    "valid_data = valid_datagen.flow_from_directory(test_dir,\n",
    "                                               batch_size=32,\n",
    "                                               target_size=(224, 224),\n",
    "                                               class_mode=\"categorical\",\n",
    "                                               seed=42)"
   ]
  },
  {
   "cell_type": "code",
   "execution_count": 4,
   "id": "e357e4df",
   "metadata": {},
   "outputs": [],
   "source": [
    "# Create tensorboard callback (functionized because need to create a new one for each model)\n",
    "import datetime\n",
    "def create_tensorboard_callback(dir_name, experiment_name):\n",
    "  log_dir = dir_name + \"/\" + experiment_name + \"/\" + datetime.datetime.now().strftime(\"%Y%m%d-%H%M%S\")\n",
    "  tensorboard_callback = tf.keras.callbacks.TensorBoard(\n",
    "      log_dir=log_dir\n",
    "  )\n",
    "  print(f\"Saving TensorBoard log files to: {log_dir}\")\n",
    "  return tensorboard_callback"
   ]
  },
  {
   "cell_type": "code",
   "execution_count": 8,
   "id": "726aa018",
   "metadata": {},
   "outputs": [],
   "source": [
    "import tensorflow_hub as hub"
   ]
  },
  {
   "cell_type": "code",
   "execution_count": 9,
   "id": "6a8f0f94",
   "metadata": {},
   "outputs": [],
   "source": [
    "resnet_url=\"https://tfhub.dev/google/imagenet/resnet_v1_101/feature_vector/5\"\n",
    "efficientnet_url=\"https://tfhub.dev/tensorflow/efficientnet/b0/feature-vector/1\""
   ]
  },
  {
   "cell_type": "code",
   "execution_count": 10,
   "id": "18028ea9",
   "metadata": {},
   "outputs": [],
   "source": [
    "IMAGE_SHAPE=(224,224)"
   ]
  },
  {
   "cell_type": "code",
   "execution_count": 11,
   "id": "4ddd3df9",
   "metadata": {},
   "outputs": [],
   "source": [
    "from tensorflow.keras.layers import Conv2D, MaxPool2D,Flatten,Dense\n",
    "\n",
    "def create_BC_model(model_url):\n",
    "  \"\"\"Takes a TensorFlow Hub URL and creates a Keras Sequential model with it.\n",
    "  \n",
    "  Args:\n",
    "    model_url (str): A TensorFlow Hub feature extraction URL.\n",
    "    num_classes (int): Number of output neurons in output layer,\n",
    "      should be equal to number of target classes, default 10.\n",
    "\n",
    "  Returns:\n",
    "    An uncompiled Keras Sequential model with model_url as feature\n",
    "    extractor layer and Dense output layer with num_classes outputs.\n",
    "  \"\"\"\n",
    "  # Download the pretrained model and save it as a Keras layer\n",
    "  feature_extractor_layer = hub.KerasLayer(model_url,\n",
    "                                           trainable=False, # freeze the underlying patterns\n",
    "                                           name='feature_extraction_layer',\n",
    "                                           input_shape=IMAGE_SHAPE+(3,)) # define the input image shape\n",
    "  \n",
    "  # Create our own model\n",
    "  model = tf.keras.Sequential([\n",
    "    feature_extractor_layer, # use the feature extraction layer as the base\n",
    "    Dense(3, activation='softmax', name='output_layer') # create our own output layer      \n",
    "  ])\n",
    "\n",
    "  return model"
   ]
  },
  {
   "cell_type": "code",
   "execution_count": 12,
   "id": "e851af63",
   "metadata": {},
   "outputs": [],
   "source": [
    "resnet_model= create_BC_model(resnet_url)\n",
    "resnet_model.compile(\n",
    "    loss=\"categorical_crossentropy\", \n",
    "    optimizer=tf.keras.optimizers.Adam(), \n",
    "    metrics=['accuracy']\n",
    ")"
   ]
  },
  {
   "cell_type": "code",
   "execution_count": 13,
   "id": "4385b6c6",
   "metadata": {},
   "outputs": [
    {
     "name": "stdout",
     "output_type": "stream",
     "text": [
      "Saving TensorBoard log files to: lab5/resnet/20211209-062235\n",
      "Epoch 1/2\n",
      "24/24 [==============================] - 82s 3s/step - loss: 0.5827 - accuracy: 0.7493 - val_loss: 0.2821 - val_accuracy: 0.8844\n",
      "Epoch 2/2\n",
      "24/24 [==============================] - 68s 3s/step - loss: 0.1650 - accuracy: 0.9520 - val_loss: 0.2256 - val_accuracy: 0.9156\n"
     ]
    },
    {
     "data": {
      "text/plain": [
       "<keras.callbacks.History at 0x1c3174f3880>"
      ]
     },
     "execution_count": 13,
     "metadata": {},
     "output_type": "execute_result"
    }
   ],
   "source": [
    "resnet_model.fit(train_data, \n",
    "epochs=2, validation_data=valid_data, \n",
    "callbacks=[create_tensorboard_callback(dir_name=\"lab5\", experiment_name=\"resnet\")]\n",
    ")"
   ]
  },
  {
   "cell_type": "code",
   "execution_count": 14,
   "id": "71fe849c",
   "metadata": {},
   "outputs": [
    {
     "name": "stdout",
     "output_type": "stream",
     "text": [
      "8/8 [==============================] - 16s 2s/step - loss: 0.2256 - accuracy: 0.9156\n"
     ]
    },
    {
     "data": {
      "text/plain": [
       "[0.22560890018939972, 0.9155555367469788]"
      ]
     },
     "execution_count": 14,
     "metadata": {},
     "output_type": "execute_result"
    }
   ],
   "source": [
    "resnet_model.evaluate(valid_data)"
   ]
  },
  {
   "cell_type": "code",
   "execution_count": 15,
   "id": "c91eb61d",
   "metadata": {},
   "outputs": [
    {
     "data": {
      "text/plain": [
       "array([1, 1, 1, 1, 1, 2, 0, 2, 2, 1, 2, 2, 2, 0, 0, 0, 2, 0, 1, 2, 2, 2,\n",
       "       1, 1, 1, 2, 0, 2, 0, 0, 0, 2, 0, 1, 1, 1, 1, 0, 0, 1, 1, 2, 0, 0,\n",
       "       2, 0, 0, 2, 1, 0, 1, 0, 0, 1, 1, 0, 2, 0, 1, 1, 1, 2, 0, 0, 2, 0,\n",
       "       1, 1, 0, 0, 1, 1, 2, 2, 2, 1, 2, 2, 1, 0, 0, 2, 1, 1, 0, 0, 2, 0,\n",
       "       1, 2, 1, 0, 1, 2, 1, 0, 2, 0, 1, 2, 0, 2, 2, 2, 0, 1, 1, 2, 1, 0,\n",
       "       1, 1, 1, 1, 0, 2, 1, 1, 1, 1, 1, 0, 0, 0, 2, 0, 1, 1, 1, 1, 2, 1,\n",
       "       1, 1, 1, 1, 2, 2, 0, 2, 1, 1, 2, 0, 1, 2, 2, 2, 0, 2, 1, 1, 1, 0,\n",
       "       0, 1, 2, 0, 1, 2, 2, 0, 0, 1, 0, 1, 2, 1, 2, 1, 1, 0, 2, 1, 0, 2,\n",
       "       2, 2, 2, 1, 2, 0, 0, 2, 0, 2, 0, 2, 0, 2, 2, 2, 2, 2, 2, 0, 0, 1,\n",
       "       1, 2, 2, 0, 0, 2, 0, 0, 2, 1, 0, 2, 2, 1, 2, 2, 1, 0, 2, 0, 0, 1,\n",
       "       0, 0, 1, 2, 0], dtype=int64)"
      ]
     },
     "execution_count": 15,
     "metadata": {},
     "output_type": "execute_result"
    }
   ],
   "source": [
    "resnet_pred_1 = resnet_model.predict(valid_data).argmax(axis=1)\n",
    "resnet_pred_1"
   ]
  },
  {
   "cell_type": "code",
   "execution_count": 16,
   "id": "e322d2fa",
   "metadata": {},
   "outputs": [],
   "source": [
    "true_y = []\n",
    "for batch in range(len(valid_data)):\n",
    "    true_y += list(valid_data[batch][-1].argmax(axis=1))"
   ]
  },
  {
   "cell_type": "code",
   "execution_count": 17,
   "id": "d875ffc3",
   "metadata": {},
   "outputs": [],
   "source": [
    "from sklearn.metrics import confusion_matrix\n",
    "import pandas as pd"
   ]
  },
  {
   "cell_type": "code",
   "execution_count": 18,
   "id": "be57cfed",
   "metadata": {},
   "outputs": [],
   "source": [
    "def conf_matr(y_pred, y_true):\n",
    "    conf_matrix = pd.DataFrame(confusion_matrix(y_pred=y_pred, y_true=y_true), \n",
    "                            index=class_names, \n",
    "                            columns=class_names)\n",
    "    return conf_matrix"
   ]
  },
  {
   "cell_type": "code",
   "execution_count": 19,
   "id": "ef660565",
   "metadata": {},
   "outputs": [
    {
     "data": {
      "text/html": [
       "<div>\n",
       "<style scoped>\n",
       "    .dataframe tbody tr th:only-of-type {\n",
       "        vertical-align: middle;\n",
       "    }\n",
       "\n",
       "    .dataframe tbody tr th {\n",
       "        vertical-align: top;\n",
       "    }\n",
       "\n",
       "    .dataframe thead th {\n",
       "        text-align: right;\n",
       "    }\n",
       "</style>\n",
       "<table border=\"1\" class=\"dataframe\">\n",
       "  <thead>\n",
       "    <tr style=\"text-align: right;\">\n",
       "      <th></th>\n",
       "      <th>apple_pie</th>\n",
       "      <th>deviled_eggs</th>\n",
       "      <th>lobster_bisque</th>\n",
       "    </tr>\n",
       "  </thead>\n",
       "  <tbody>\n",
       "    <tr>\n",
       "      <th>apple_pie</th>\n",
       "      <td>21</td>\n",
       "      <td>23</td>\n",
       "      <td>31</td>\n",
       "    </tr>\n",
       "    <tr>\n",
       "      <th>deviled_eggs</th>\n",
       "      <td>28</td>\n",
       "      <td>26</td>\n",
       "      <td>21</td>\n",
       "    </tr>\n",
       "    <tr>\n",
       "      <th>lobster_bisque</th>\n",
       "      <td>22</td>\n",
       "      <td>30</td>\n",
       "      <td>23</td>\n",
       "    </tr>\n",
       "  </tbody>\n",
       "</table>\n",
       "</div>"
      ],
      "text/plain": [
       "                apple_pie  deviled_eggs  lobster_bisque\n",
       "apple_pie              21            23              31\n",
       "deviled_eggs           28            26              21\n",
       "lobster_bisque         22            30              23"
      ]
     },
     "execution_count": 19,
     "metadata": {},
     "output_type": "execute_result"
    }
   ],
   "source": [
    "conf_matr(resnet_pred_1, true_y)"
   ]
  },
  {
   "cell_type": "code",
   "execution_count": 20,
   "id": "36cd0102",
   "metadata": {},
   "outputs": [],
   "source": [
    "efficient_model= create_BC_model(efficientnet_url)\n",
    "efficient_model.compile(\n",
    "    loss=\"categorical_crossentropy\", \n",
    "    optimizer=tf.keras.optimizers.Adam(), \n",
    "    metrics=['accuracy']\n",
    ")"
   ]
  },
  {
   "cell_type": "code",
   "execution_count": 21,
   "id": "5e7cb74e",
   "metadata": {},
   "outputs": [
    {
     "name": "stdout",
     "output_type": "stream",
     "text": [
      "Saving TensorBoard log files to: lab5/efficient/20211209-062550\n",
      "Epoch 1/2\n",
      "24/24 [==============================] - 37s 1s/step - loss: 0.5576 - accuracy: 0.8240 - val_loss: 0.3411 - val_accuracy: 0.9244\n",
      "Epoch 2/2\n",
      "24/24 [==============================] - 27s 1s/step - loss: 0.2152 - accuracy: 0.9573 - val_loss: 0.2371 - val_accuracy: 0.9333\n"
     ]
    },
    {
     "data": {
      "text/plain": [
       "<keras.callbacks.History at 0x1c354cbe610>"
      ]
     },
     "execution_count": 21,
     "metadata": {},
     "output_type": "execute_result"
    }
   ],
   "source": [
    "efficient_model.fit(train_data, \n",
    "epochs=2, validation_data=valid_data, \n",
    "callbacks=[create_tensorboard_callback(dir_name=\"lab5\", experiment_name=\"efficient\")]\n",
    ")"
   ]
  },
  {
   "cell_type": "code",
   "execution_count": 22,
   "id": "045b3421",
   "metadata": {},
   "outputs": [
    {
     "data": {
      "text/plain": [
       "array([0, 2, 2, 1, 0, 2, 2, 1, 0, 2, 1, 1, 0, 2, 1, 2, 0, 2, 0, 1, 1, 1,\n",
       "       1, 1, 0, 0, 1, 2, 2, 0, 1, 0, 1, 2, 2, 0, 2, 2, 2, 0, 2, 1, 0, 0,\n",
       "       1, 2, 1, 0, 1, 2, 0, 1, 1, 0, 1, 0, 0, 1, 0, 0, 2, 2, 1, 1, 0, 2,\n",
       "       2, 0, 1, 1, 2, 2, 1, 0, 0, 0, 1, 0, 0, 0, 0, 2, 0, 2, 0, 2, 0, 2,\n",
       "       0, 0, 1, 2, 2, 2, 2, 0, 1, 0, 2, 0, 2, 0, 2, 1, 1, 0, 1, 2, 0, 1,\n",
       "       2, 1, 1, 2, 0, 2, 0, 2, 1, 1, 1, 2, 0, 1, 2, 2, 0, 2, 0, 2, 0, 1,\n",
       "       1, 2, 2, 2, 0, 1, 0, 2, 0, 2, 2, 2, 1, 2, 1, 0, 0, 2, 1, 2, 0, 2,\n",
       "       0, 1, 1, 2, 2, 0, 2, 0, 0, 2, 2, 1, 2, 2, 1, 0, 2, 1, 1, 0, 2, 1,\n",
       "       2, 0, 1, 0, 0, 1, 2, 2, 0, 2, 0, 1, 2, 0, 0, 1, 1, 0, 1, 1, 1, 1,\n",
       "       0, 0, 0, 2, 0, 2, 2, 1, 1, 1, 1, 0, 2, 1, 0, 1, 2, 0, 2, 2, 1, 1,\n",
       "       2, 1, 1, 1, 2], dtype=int64)"
      ]
     },
     "execution_count": 22,
     "metadata": {},
     "output_type": "execute_result"
    }
   ],
   "source": [
    "efficient_pred_1 = efficient_model.predict(valid_data).argmax(axis=1)\n",
    "efficient_pred_1"
   ]
  },
  {
   "cell_type": "code",
   "execution_count": 23,
   "id": "3137e32d",
   "metadata": {},
   "outputs": [
    {
     "data": {
      "text/html": [
       "<div>\n",
       "<style scoped>\n",
       "    .dataframe tbody tr th:only-of-type {\n",
       "        vertical-align: middle;\n",
       "    }\n",
       "\n",
       "    .dataframe tbody tr th {\n",
       "        vertical-align: top;\n",
       "    }\n",
       "\n",
       "    .dataframe thead th {\n",
       "        text-align: right;\n",
       "    }\n",
       "</style>\n",
       "<table border=\"1\" class=\"dataframe\">\n",
       "  <thead>\n",
       "    <tr style=\"text-align: right;\">\n",
       "      <th></th>\n",
       "      <th>apple_pie</th>\n",
       "      <th>deviled_eggs</th>\n",
       "      <th>lobster_bisque</th>\n",
       "    </tr>\n",
       "  </thead>\n",
       "  <tbody>\n",
       "    <tr>\n",
       "      <th>apple_pie</th>\n",
       "      <td>23</td>\n",
       "      <td>31</td>\n",
       "      <td>21</td>\n",
       "    </tr>\n",
       "    <tr>\n",
       "      <th>deviled_eggs</th>\n",
       "      <td>30</td>\n",
       "      <td>19</td>\n",
       "      <td>26</td>\n",
       "    </tr>\n",
       "    <tr>\n",
       "      <th>lobster_bisque</th>\n",
       "      <td>21</td>\n",
       "      <td>22</td>\n",
       "      <td>32</td>\n",
       "    </tr>\n",
       "  </tbody>\n",
       "</table>\n",
       "</div>"
      ],
      "text/plain": [
       "                apple_pie  deviled_eggs  lobster_bisque\n",
       "apple_pie              23            31              21\n",
       "deviled_eggs           30            19              26\n",
       "lobster_bisque         21            22              32"
      ]
     },
     "execution_count": 23,
     "metadata": {},
     "output_type": "execute_result"
    }
   ],
   "source": [
    "conf_matr(efficient_pred_1, true_y)"
   ]
  },
  {
   "cell_type": "code",
   "execution_count": null,
   "id": "cc7e35ee",
   "metadata": {},
   "outputs": [],
   "source": []
  }
 ],
 "metadata": {
  "kernelspec": {
   "display_name": "Python 3 (ipykernel)",
   "language": "python",
   "name": "python3"
  },
  "language_info": {
   "codemirror_mode": {
    "name": "ipython",
    "version": 3
   },
   "file_extension": ".py",
   "mimetype": "text/x-python",
   "name": "python",
   "nbconvert_exporter": "python",
   "pygments_lexer": "ipython3",
   "version": "3.9.7"
  }
 },
 "nbformat": 4,
 "nbformat_minor": 5
}
